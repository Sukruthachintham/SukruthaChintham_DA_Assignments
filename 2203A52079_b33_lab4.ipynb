{
  "nbformat": 4,
  "nbformat_minor": 0,
  "metadata": {
    "colab": {
      "provenance": []
    },
    "kernelspec": {
      "name": "python3",
      "display_name": "Python 3"
    },
    "language_info": {
      "name": "python"
    }
  },
  "cells": [
    {
      "cell_type": "code",
      "source": [
        "import nltk\n",
        "from nltk.tokenize import word_tokenize\n",
        "from nltk.corpus import stopwords\n",
        "from nltk.stem import PorterStemmer, WordNetLemmatizer"
      ],
      "metadata": {
        "id": "0xdAdQsgIks1"
      },
      "execution_count": 4,
      "outputs": []
    },
    {
      "cell_type": "code",
      "source": [
        "nltk.download('punkt')\n",
        "nltk.download('stopwords')\n",
        "nltk.download('wordnet')\n",
        "nltk.download('omw-1.4')"
      ],
      "metadata": {
        "colab": {
          "base_uri": "https://localhost:8080/"
        },
        "id": "sakjUoB2Iob6",
        "outputId": "4e57d391-3ac1-48a5-cc01-21d1e3c319d1"
      },
      "execution_count": 5,
      "outputs": [
        {
          "output_type": "stream",
          "name": "stderr",
          "text": [
            "[nltk_data] Downloading package punkt to /root/nltk_data...\n",
            "[nltk_data]   Package punkt is already up-to-date!\n",
            "[nltk_data] Downloading package stopwords to /root/nltk_data...\n",
            "[nltk_data]   Unzipping corpora/stopwords.zip.\n",
            "[nltk_data] Downloading package wordnet to /root/nltk_data...\n",
            "[nltk_data] Downloading package omw-1.4 to /root/nltk_data...\n"
          ]
        },
        {
          "output_type": "execute_result",
          "data": {
            "text/plain": [
              "True"
            ]
          },
          "metadata": {},
          "execution_count": 5
        }
      ]
    },
    {
      "cell_type": "code",
      "source": [
        "phrase = \"The quick brown foxes were jumping over the lazy dogs.\""
      ],
      "metadata": {
        "id": "LfMw4-6BIv2i"
      },
      "execution_count": 6,
      "outputs": []
    },
    {
      "cell_type": "code",
      "source": [
        "# 1. Tokenization\n",
        "tokens = word_tokenize(phrase)\n",
        "print(\"Tokens:\", tokens)\n"
      ],
      "metadata": {
        "colab": {
          "base_uri": "https://localhost:8080/"
        },
        "id": "jsc4jMO0IxMo",
        "outputId": "168c9ae5-1687-45d7-95d9-0eb22a0bca23"
      },
      "execution_count": 7,
      "outputs": [
        {
          "output_type": "stream",
          "name": "stdout",
          "text": [
            "Tokens: ['The', 'quick', 'brown', 'foxes', 'were', 'jumping', 'over', 'the', 'lazy', 'dogs', '.']\n"
          ]
        }
      ]
    },
    {
      "cell_type": "code",
      "source": [
        "#2. Remove Stopwords\n",
        "stop_words = set(stopwords.words('english'))\n",
        "filtered_tokens = [word for word in tokens if word.lower() not in stop_words]\n",
        "print(\"After Stopword Removal:\", filtered_tokens)\n"
      ],
      "metadata": {
        "colab": {
          "base_uri": "https://localhost:8080/"
        },
        "id": "wXmjkbJTI3lA",
        "outputId": "1dbe9981-1431-437a-e86f-deccf329a2f4"
      },
      "execution_count": 8,
      "outputs": [
        {
          "output_type": "stream",
          "name": "stdout",
          "text": [
            "After Stopword Removal: ['quick', 'brown', 'foxes', 'jumping', 'lazy', 'dogs', '.']\n"
          ]
        }
      ]
    },
    {
      "cell_type": "code",
      "source": [
        "# 3. Stemming\n",
        "stemmer = PorterStemmer()\n",
        "stemmed_tokens = [stemmer.stem(word) for word in filtered_tokens]\n",
        "print(\"After Stemming:\", stemmed_tokens)\n"
      ],
      "metadata": {
        "colab": {
          "base_uri": "https://localhost:8080/"
        },
        "id": "eI-7o8eoJAZi",
        "outputId": "293ced2f-6c4e-4b22-dce0-2f4b3ee7dbcb"
      },
      "execution_count": 9,
      "outputs": [
        {
          "output_type": "stream",
          "name": "stdout",
          "text": [
            "After Stemming: ['quick', 'brown', 'fox', 'jump', 'lazi', 'dog', '.']\n"
          ]
        }
      ]
    },
    {
      "cell_type": "code",
      "source": [
        "# 4. Lemmatization\n",
        "lemmatizer = WordNetLemmatizer()\n",
        "lemmatized_tokens = [lemmatizer.lemmatize(word) for word in filtered_tokens]\n",
        "print(\"After Lemmatization:\", lemmatized_tokens)\n"
      ],
      "metadata": {
        "colab": {
          "base_uri": "https://localhost:8080/"
        },
        "id": "W8GaFqvQJB-v",
        "outputId": "637fdcdd-4b05-4bb1-813e-e2b24f2266d2"
      },
      "execution_count": 10,
      "outputs": [
        {
          "output_type": "stream",
          "name": "stdout",
          "text": [
            "After Lemmatization: ['quick', 'brown', 'fox', 'jumping', 'lazy', 'dog', '.']\n"
          ]
        }
      ]
    },
    {
      "cell_type": "code",
      "source": [
        "text = \"\"\"\n",
        "The quick brown fox jumps over the lazy dog. The lazy dog barks loudly at the quick brown fox.\n",
        "The fox quickly runs away, but the dog is still lazy. The lazy dog doesn’t chase the fox,\n",
        "but the fox keeps jumping over the lazy dog. The dog remains lazy as the fox jumps over again.\n",
        "The lazy dog watches the quick fox from a distance.\n",
        "\"\"\"\n",
        "\n",
        "# Tokenize the text into words\n",
        "words = word_tokenize(text)\n",
        "\n",
        "# Remove stopwords\n",
        "stop_words = set(stopwords.words('english'))\n",
        "filtered_words = [word.lower() for word in words if word.isalpha() and word.lower() not in stop_words]\n",
        "\n",
        "# Calculate word frequency\n",
        "freq_dist = FreqDist(filtered_words)\n",
        "\n",
        "# Print the frequency distribution\n",
        "print(\"Word Frequency Distribution:\")\n",
        "for word, freq in freq_dist.items():\n",
        "    print(f\"{word}: {freq}\")\n",
        "\n",
        "# Plot the word frequency distribution\n",
        "plt.figure(figsize=(10, 6))\n",
        "freq_dist.plot(30, cumulative=False)  # Plot top 30 words\n",
        "plt.title(\"Word Frequency Distribution\")\n",
        "plt.show()\n"
      ],
      "metadata": {
        "colab": {
          "base_uri": "https://localhost:8080/",
          "height": 939
        },
        "id": "WxaxytNEJF3i",
        "outputId": "e289f1ac-da74-45ec-a7bc-e144b1fc7c55"
      },
      "execution_count": 11,
      "outputs": [
        {
          "output_type": "stream",
          "name": "stdout",
          "text": [
            "Word Frequency Distribution:\n",
            "quick: 3\n",
            "brown: 2\n",
            "fox: 7\n",
            "jumps: 2\n",
            "lazy: 7\n",
            "dog: 7\n",
            "barks: 1\n",
            "loudly: 1\n",
            "quickly: 1\n",
            "runs: 1\n",
            "away: 1\n",
            "still: 1\n",
            "chase: 1\n",
            "keeps: 1\n",
            "jumping: 1\n",
            "remains: 1\n",
            "watches: 1\n",
            "distance: 1\n"
          ]
        },
        {
          "output_type": "display_data",
          "data": {
            "text/plain": [
              "<Figure size 1000x600 with 1 Axes>"
            ],
            "image/png": "[encoded data removed]"
          },
          "metadata": {}
        }
      ]
    },
    {
      "cell_type": "code",
      "source": [
        "!pip install markovify # Install the markovify library\n",
        "\n",
        "import markovify\n"
      ],
      "metadata": {
        "colab": {
          "base_uri": "https://localhost:8080/"
        },
        "id": "jwbTy0sJJ9lH",
        "outputId": "d3f7bb6b-bade-470d-d3d9-10af8c362f3c"
      },
      "execution_count": 14,
      "outputs": [
        {
          "output_type": "stream",
          "name": "stdout",
          "text": [
            "Requirement already satisfied: markovify in /usr/local/lib/python3.11/dist-packages (0.9.4)\n",
            "Requirement already satisfied: unidecode in /usr/local/lib/python3.11/dist-packages (from markovify) (1.3.8)\n"
          ]
        }
      ]
    },
    {
      "source": [
        "\n",
        "text = \"\"\"\n",
        "Life is beautiful when you embrace every moment with gratitude.\n",
        "Challenges are stepping stones to greatness, and each failure is a lesson learned.\n",
        "The stars remind us of endless possibilities, and the sun teaches us to rise after every fall.\n",
        "Dream big, work hard, and trust the journey.\n",
        "Every day is a fresh start, an opportunity to write a new chapter in your story.\n",
        "\"\"\"\n",
        "try:\n",
        "    text_model  = markovify.Text(text, state_size=2)  # Adjust state size for context\n",
        "except Exception as e:\n",
        "    print(f\"Error in building Markov model: {e}\")\n",
        "\n",
        "\n",
        "print(\"\\nGenerated Short Phrases:\")\n",
        "for i in range(1):  # Generate 5 short phrases\n",
        "    short_phrase = text_model.make_short_sentence(max_chars=50)\n",
        "    if short_phrase:  # Ensure the phrase is valid\n",
        "        print(short_phrase)\n",
        "    else:\n",
        "        print(\"[No valid short phrase generated]\")"
      ],
      "cell_type": "code",
      "metadata": {
        "colab": {
          "base_uri": "https://localhost:8080/"
        },
        "id": "KT2zsTHjJzKO",
        "outputId": "50397eff-44d8-44bd-dba5-a6f64dad33d1"
      },
      "execution_count": 15,
      "outputs": [
        {
          "output_type": "stream",
          "name": "stdout",
          "text": [
            "\n",
            "Generated Short Phrases:\n",
            "Every day is a lesson learned.\n"
          ]
        }
      ]
    }
  ]
}